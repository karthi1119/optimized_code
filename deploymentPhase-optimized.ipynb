{
 "cells": [
  {
   "cell_type": "code",
   "execution_count": 7,
   "id": "15c8cb77-6706-4fda-b266-469e884e93cb",
   "metadata": {},
   "outputs": [],
   "source": [
    "import pickle"
   ]
  },
  {
   "cell_type": "code",
   "execution_count": 8,
   "id": "e711e3cf-3f96-41f4-acba-9c8bd43527c2",
   "metadata": {},
   "outputs": [],
   "source": [
    "loded_model1=pickle.load(open(\"model.pkl\",'rb'))"
   ]
  },
  {
   "cell_type": "code",
   "execution_count": 9,
   "id": "bef88751-cc4e-4e00-a885-f20dbd4bbe29",
   "metadata": {},
   "outputs": [],
   "source": [
    "loded_model2=pickle.load(open(\"scaler.pkl\",'rb'))"
   ]
  },
  {
   "cell_type": "code",
   "execution_count": 20,
   "id": "3de87589-8156-487a-9086-b1e1075cbf0d",
   "metadata": {},
   "outputs": [
    {
     "name": "stderr",
     "output_type": "stream",
     "text": [
      "C:\\anaconda3\\Lib\\site-packages\\sklearn\\base.py:439: UserWarning: X does not have valid feature names, but StandardScaler was fitted with feature names\n",
      "  warnings.warn(\n"
     ]
    }
   ],
   "source": [
    "input_data_scaled=loded_model2.transform([[1237,3818,3738,0,1]])"
   ]
  },
  {
   "cell_type": "code",
   "execution_count": 26,
   "id": "6de1ed85-7a34-487a-8f71-c0a1b51c9651",
   "metadata": {},
   "outputs": [
    {
     "name": "stderr",
     "output_type": "stream",
     "text": [
      "C:\\anaconda3\\Lib\\site-packages\\sklearn\\base.py:439: UserWarning: X does not have valid feature names, but LinearRegression was fitted with feature names\n",
      "  warnings.warn(\n"
     ]
    }
   ],
   "source": [
    "result=loded_model1.predict(input_data_scaled)"
   ]
  },
  {
   "cell_type": "code",
   "execution_count": 27,
   "id": "92a4b1dc-9631-49f8-b38d-378549328388",
   "metadata": {},
   "outputs": [
    {
     "data": {
      "text/plain": [
       "array([[42340.42677983]])"
      ]
     },
     "execution_count": 27,
     "metadata": {},
     "output_type": "execute_result"
    }
   ],
   "source": [
    "result"
   ]
  },
  {
   "cell_type": "code",
   "execution_count": null,
   "id": "3111e679-6161-4c94-a937-ca845ce2270a",
   "metadata": {},
   "outputs": [],
   "source": []
  }
 ],
 "metadata": {
  "kernelspec": {
   "display_name": "Python 3 (ipykernel)",
   "language": "python",
   "name": "python3"
  },
  "language_info": {
   "codemirror_mode": {
    "name": "ipython",
    "version": 3
   },
   "file_extension": ".py",
   "mimetype": "text/x-python",
   "name": "python",
   "nbconvert_exporter": "python",
   "pygments_lexer": "ipython3",
   "version": "3.11.7"
  }
 },
 "nbformat": 4,
 "nbformat_minor": 5
}
